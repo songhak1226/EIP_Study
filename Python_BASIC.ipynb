{
 "cells": [
  {
   "cell_type": "code",
   "execution_count": 11,
   "id": "76205a64",
   "metadata": {},
   "outputs": [
    {
     "name": "stdout",
     "output_type": "stream",
     "text": [
      "4\n"
     ]
    }
   ],
   "source": [
    "# 동적 타이핑 : 개발자가 타입을 지정하지 않음\n",
    "#               코드가 실행 될 때 자동으로 타입을 지정\n",
    "\n",
    "# 파이썬 변수 사용 방법\n",
    "# 선언과 동시에 초기화\n",
    "\n",
    "num = 4\n",
    "print(num)\n",
    "\n",
    "type(num) #변수의 타입을 알려줌"
   ]
  },
  {
   "cell_type": "code",
   "execution_count": null,
   "id": "9a0803cb",
   "metadata": {},
   "outputs": [],
   "source": [
    "#파이썬 문자열\n",
    "# JAVA : char '', String \"\"\n",
    "#Python: String '' or \"\" (뭘 쓰든 상관없다)"
   ]
  },
  {
   "cell_type": "code",
   "execution_count": null,
   "id": "60708f32",
   "metadata": {},
   "outputs": [],
   "source": [
    "#JAVA 배열 => 컬렉션프레임워크(LIST, SET)\n",
    "#Python => 컬렉션프레임워크(LIST, SET, TUPLE, DICTIONARY)"
   ]
  },
  {
   "cell_type": "code",
   "execution_count": null,
   "id": "1bc74cea",
   "metadata": {},
   "outputs": [],
   "source": [
    "# 변수 선언 및 초기화\n",
    "\n",
    "# JAVA\n",
    "# 변수선언 int num;\n",
    "# 변수 초기화 num = 4;\n",
    "# 변수 선언 및 초기화 int num = 4;\n",
    "# JAVA는 변수 타입 지정\n",
    "\n",
    "# Python\n",
    "# 변수 선언 및 초기화 num = 4;"
   ]
  },
  {
   "cell_type": "code",
   "execution_count": null,
   "id": "410afd60",
   "metadata": {},
   "outputs": [],
   "source": [
    "# 문자와 문자열\n",
    "# JAVA\n",
    "# 문자 : char(''), 문자열 : String(\"\")\n",
    "\n",
    "#Python\n",
    "# 문자, 문자열 구분 x ('' or \"\")"
   ]
  },
  {
   "cell_type": "code",
   "execution_count": null,
   "id": "49f0a38f",
   "metadata": {},
   "outputs": [],
   "source": [
    "# 출력\n",
    "# JAVA\n",
    "# print, println 구분\n",
    "# System.out.println(\"Hello JAVA\");\n",
    "\n",
    "# Python\n",
    "# print만 사용(=println)\n",
    "# print('Hello Python')"
   ]
  },
  {
   "cell_type": "code",
   "execution_count": 7,
   "id": "de4e1839",
   "metadata": {},
   "outputs": [
    {
     "name": "stdout",
     "output_type": "stream",
     "text": [
      "r\n",
      "Che\n",
      "Che\n",
      "rry\n",
      "y\n",
      "err\n"
     ]
    }
   ],
   "source": [
    "# 문자열(즁요)\n",
    "# Python\n",
    "name = 'Cherry'\n",
    "print(name[3]) #문자 하나만 추출(3번 인덱스 추출)\n",
    "print(name[0:3]) #문자열 추출(0:3이지만 0~2번 인덱스까지 추출)\n",
    "print(name[:3])  #문자열 추출(시작을 생략하면 처음부터(0))\n",
    "print(name[3:])  #문자열 추출(끝을 생략하면 끝까지(-1))\n",
    "\n",
    "print(name[-1]) #문자 하나만 추출(-1은 맨 마지막 인덱스)\n",
    "print(name[-4 : -1])"
   ]
  },
  {
   "cell_type": "code",
   "execution_count": null,
   "id": "2c5cadf7",
   "metadata": {},
   "outputs": [],
   "source": [
    "# 컬렉션 프레임워크\n",
    "# JAVA\n",
    "# 배열 : 똑같은 자료형만 입력 가능, 정적으로 생성\n",
    "\n",
    "# Python\n",
    "# 배열말고 데이터를 여러건 저장할 수 있는 구조를 제공\n",
    "# 1.List [1, 2, 3]\n",
    "# 2.Dictionary(dict) {key : value, 1:355 <- 이런식}\n",
    "# 3.Set {1, 2, 3}\n",
    "# 4.Tuple (1, 2, 3)"
   ]
  },
  {
   "cell_type": "code",
   "execution_count": 18,
   "id": "efa3f701",
   "metadata": {},
   "outputs": [
    {
     "name": "stdout",
     "output_type": "stream",
     "text": [
      "blue\n",
      "red\n",
      "['red', 'blue', 3, 3.14]\n",
      "['insert', 3.14, 5, 'green']\n",
      "blue\n"
     ]
    }
   ],
   "source": [
    "# 1.List\n",
    "# 시퀀스 자료형\n",
    "# 인덱스 사용 가능\n",
    "# 선언시 대괄호[] 사용\n",
    "# 다양한 자료형의 데이터 저장 가능\n",
    "t= [\"red\", \"blue\", 3, 3.14, 5 ]\n",
    "# t 리스트의 길이는? 5\n",
    "# t 리스트의 인덱스? 0 ~ 4, -5 ~ -1\n",
    "print(t[1])\n",
    "print(t[0])\n",
    "print(t[0:4])\n",
    "\n",
    "# List 값 입력\n",
    "t.append('green')    # 맨 마지막에 입력\n",
    "t.insert(2,'insert') # 입력한 인덱스에 값을 입력(기존에 있던 값 밀어버리고=새치기)\n",
    "t.remove(3)      # 삭제(인덱스 삭제)\n",
    "t.remove('red')  # 삭제(값 삭제)\n",
    "\n",
    "color = t.pop(0) # 삭제 : 값 x, 인덱스 o\n",
    "print(t)\n",
    "print(color)\n"
   ]
  },
  {
   "cell_type": "code",
   "execution_count": 21,
   "id": "0fabf931",
   "metadata": {},
   "outputs": [
    {
     "name": "stdout",
     "output_type": "stream",
     "text": [
      "[1, 2, 3, 3, 4, 5]\n",
      "[1, 2, 3]\n"
     ]
    }
   ],
   "source": [
    "# 리스트 확장\n",
    "a = [1, 2, 3]\n",
    "b = [3, 4, 5]\n",
    "\n",
    "#a.append(b)\n",
    "#print(a) = [1,2,3[3,4,5]]\n",
    "\n",
    "# a.extend(b) = [1,2,3,3,4,5]\n",
    "print(a+b) # [1,2,3,3,4,5]\n",
    "print(a)"
   ]
  },
  {
   "cell_type": "code",
   "execution_count": 24,
   "id": "13a370f9",
   "metadata": {},
   "outputs": [
    {
     "name": "stdout",
     "output_type": "stream",
     "text": [
      "{'korea': 'seoul', 'japan': 'tokyo', 'canada': 'ottawa'}\n",
      "seoul\n",
      "{'korea': 'seoul', 'japan': 'tokyo', 'canada': 'ottawa', 'brasil': 'brasilia'}\n"
     ]
    }
   ],
   "source": [
    "# 2.dict\n",
    "# {key : value} 한쌍 : key value pair\n",
    "# 선언시 {}사용\n",
    "# 인덱스 없음! (key로 값을 찾음)\n",
    "# key는 절대 중복 불가\n",
    "# 시퀀스 자료형 x (순서 없음)\n",
    "\n",
    "t = {\"korea\" : \"seoul\", \"japan\" : \"tokyo\", \"canada\" : \"ottawa\"}\n",
    "print(t)\n",
    "print(t['korea'])\n",
    "t['brasil'] = \"brasilia\" # 입력 또는 수정(america 키값이 없으면 입력, 있으면 수정)\n",
    "print(t)"
   ]
  },
  {
   "cell_type": "code",
   "execution_count": 25,
   "id": "9973d31b",
   "metadata": {},
   "outputs": [
    {
     "name": "stdout",
     "output_type": "stream",
     "text": [
      "dict_keys(['korea', 'japan', 'canada', 'brasil'])\n",
      "dict_values(['seoul', 'tokyo', 'ottawa', 'brasilia'])\n",
      "dict_items([('korea', 'seoul'), ('japan', 'tokyo'), ('canada', 'ottawa'), ('brasil', 'brasilia')])\n"
     ]
    }
   ],
   "source": [
    "# 멤버함수\n",
    "# keys(), values(), items()\n",
    "print(t.keys())\n",
    "print(t.values())\n",
    "print(t.items())"
   ]
  },
  {
   "cell_type": "code",
   "execution_count": 27,
   "id": "ce14cc18",
   "metadata": {},
   "outputs": [
    {
     "name": "stdout",
     "output_type": "stream",
     "text": [
      "<class 'int'>\n",
      "<class 'tuple'>\n"
     ]
    }
   ],
   "source": [
    "# 3.Tuple\n",
    "# List 동일(시퀀스, 인덱스)\n",
    "# ()사용\n",
    "# 생성 후 변경이 불가능\n",
    "# ()생략 가능\n",
    "\n",
    "# insert, append, remove, pop 사용 불가\n",
    "t = (\"red\", \"blue\")\n",
    "\n",
    "t2 = (1)\n",
    "t3 = (1,) #tuple에서 만약에 값이 1개면 , 사용\n",
    "print(type(t2))\n",
    "print(type(t3))"
   ]
  },
  {
   "cell_type": "code",
   "execution_count": 28,
   "id": "75e404f0",
   "metadata": {},
   "outputs": [
    {
     "name": "stdout",
     "output_type": "stream",
     "text": [
      "<class 'set'>\n"
     ]
    }
   ],
   "source": [
    "# 4.Set\n",
    "# 순서 없음\n",
    "# 중복값을 허용하지 않음\n",
    "# 수학의 집합 (union, intersection, difference 등)\n",
    "# set() 생성 가능\n",
    "\n",
    "a = {1, 2, 3}\n",
    "print(type(a))\n"
   ]
  },
  {
   "cell_type": "code",
   "execution_count": 34,
   "id": "f493686d",
   "metadata": {},
   "outputs": [],
   "source": [
    "#list를 set()으로 바꿔서 중복제거 후 다시 list로 바꿈\n",
    "a = [1, 2, 3, 4, 5, 6, 6, 3, 2, 1, 2, 3, 4, 5]\n",
    "#set(a)\n",
    "list(set(a))  #다시 list로 바꿈"
   ]
  },
  {
   "cell_type": "code",
   "execution_count": 33,
   "id": "ff2c7ece",
   "metadata": {},
   "outputs": [],
   "source": [
    "# 언패킹   : list, tuple, set 사용 가능\n",
    "t = [1, 2, 3]\n",
    "\n",
    "# JAVA\n",
    "# a = t[0]\n",
    "# b = t[1]\n",
    "# c = t[2]\n",
    "\n",
    "#Python\n",
    "a, b, c = t\n",
    "# a, b, c = [1, 2, 3]  # 무조건 개수가 맞아야 함"
   ]
  },
  {
   "cell_type": "code",
   "execution_count": null,
   "id": "df073266",
   "metadata": {},
   "outputs": [],
   "source": [
    "# 함수 (function)\n",
    "\n",
    "# JAVA\n",
    "# public static String printName(String name){\n",
    "#    실행문:\n",
    "#    return \"cherry\";\n",
    "# }\n",
    "\n",
    "#Python\n",
    "def printName(String Name):\n",
    "    실행문\n",
    "    return \"cherry\"\n",
    "\n",
    "printName(\"ccw\")\n",
    "\n",
    "import pandas as pd  # as는 별명을 지어주는 것 pandas를 pd로\n",
    "\n",
    "pandas.dataframe()\n",
    "pd.dataframe()\n"
   ]
  }
 ],
 "metadata": {
  "kernelspec": {
   "display_name": "Python 3 (ipykernel)",
   "language": "python",
   "name": "python3"
  },
  "language_info": {
   "codemirror_mode": {
    "name": "ipython",
    "version": 3
   },
   "file_extension": ".py",
   "mimetype": "text/x-python",
   "name": "python",
   "nbconvert_exporter": "python",
   "pygments_lexer": "ipython3",
   "version": "3.9.12"
  }
 },
 "nbformat": 4,
 "nbformat_minor": 5
}
